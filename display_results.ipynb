{
 "cells": [
  {
   "cell_type": "code",
   "execution_count": null,
   "metadata": {},
   "outputs": [],
   "source": [
    "import matplotlib.pyplot as plt\n",
    "import pandas as pd\n",
    "import numpy as np\n",
    "import torch\n",
    "import random\n",
    "import gc"
   ]
  },
  {
   "cell_type": "code",
   "execution_count": null,
   "metadata": {},
   "outputs": [],
   "source": [
    "results = pd.read_csv('lsh_mean_new_method/task_9/results.csv', header=None, names=['ld', 'loss', 'ws_mean'])"
   ]
  },
  {
   "cell_type": "code",
   "execution_count": null,
   "metadata": {},
   "outputs": [],
   "source": [
    "fig, (ax1, ax2) = plt.subplots(nrows=2, ncols=1, sharex=True, figsize=(8, 6))\n",
    "epochs = list(range(len(results)))  # Zakładam, że mamy 100 epok\n",
    "# ----- WYKRES 1: Strata GAN w zależności od epok -----\n",
    "ax1.plot(\n",
    "    epochs,\n",
    "    results['loss'],\n",
    "    color='red',\n",
    "    linestyle='-',\n",
    "    marker='o',\n",
    "    markersize=5,\n",
    "    label='Strata GAN'\n",
    ")\n",
    "ax1.set_title(\"Strata GAN w zależności od epok\")\n",
    "ax1.set_ylabel(\"Strata GAN\")\n",
    "ax1.grid(True)              # włączenie siatki\n",
    "ax1.legend(loc='upper right', fontsize='small')  # opcjonalna legenda\n",
    "\n",
    "# ----- WYKRES 2: Odległość w przestrzeni kubełków w zależności od epok -----\n",
    "ax2.plot(\n",
    "    epochs,\n",
    "    results['ld'],\n",
    "    color='blue',\n",
    "    linestyle='-',\n",
    "    marker='s',\n",
    "    markersize=5,\n",
    "    label='Odległość w kubełkach'\n",
    ")\n",
    "ax2.set_title(\"Odległość w przestrzeni kubełków w zależności od epok\")\n",
    "ax2.set_xlabel(\"Epoka\")\n",
    "ax2.set_ylabel(\"Odległość w przestrzeni kubełków\")\n",
    "ax2.grid(True)\n",
    "ax2.legend(loc='upper right', fontsize='small')  # opcjonalna legenda\n",
    "\n",
    "# Drobne poprawki rozmieszczenia, aby tytuły i etykiety się nie nakładały\n",
    "plt.tight_layout()\n",
    "plt.show()"
   ]
  },
  {
   "cell_type": "code",
   "execution_count": null,
   "metadata": {},
   "outputs": [],
   "source": [
    "ws = results['ws_mean']\n",
    "x_all = list(range(len(ws)))\n",
    "\n",
    "x5 = x_all[::5]\n",
    "y5 = ws[::5]\n",
    "\n",
    "plt.plot(x5, y5, linestyle='--', marker='o', label='Loss (co 5)')\n",
    "\n",
    "plt.title(\"Przebieg średniej wartości odległości wassersteina\")\n",
    "plt.xlabel(\"Epoka\")\n",
    "plt.ylabel(\"Wartość średniej odległości wassersteina\")\n",
    "\n",
    "plt.savefig('wasserstain_mean_plot.png', dpi=300, bbox_inches='tight')"
   ]
  },
  {
   "cell_type": "code",
   "execution_count": null,
   "metadata": {},
   "outputs": [],
   "source": [
    "def generate_and_save_images(predictions, file_name = \"gen_image\"):\n",
    "    fig, axs = plt.subplots(4, 7, figsize=(15, 4))\n",
    "    for i in range(28):\n",
    "        x = predictions[i + random.randint(100, 500)].reshape(44, 44)\n",
    "        im = axs[i // 7, i % 7].imshow(x, cmap='gnuplot')\n",
    "        axs[i // 7, i % 7].axis('off')\n",
    "        fig.colorbar(im, ax=axs[i // 7, i % 7])\n",
    "    plt.savefig(f'{file_name}h.png')\n",
    "    plt.show()\n",
    "    plt.close()\n",
    "    gc.collect()\n",
    "\n",
    "generate_and_save_images(torch.load('generated_images.pth'))\n",
    "generate_and_save_images(np.load('/net/people/plgrid/plgmchomans/data_nonrandom_responses.npy'), \"actual\")"
   ]
  },
  {
   "cell_type": "code",
   "execution_count": null,
   "metadata": {},
   "outputs": [],
   "source": [
    "def draw_and_save_sets_of_images(predictions, file_name = \"gen_image\"):\n",
    "    for j in range(5):\n",
    "        fig, axs = plt.subplots(1, 7, figsize=(15, 2))\n",
    "        for i in range(7):\n",
    "            x = predictions[i + j * 14].reshape(44, 44)\n",
    "            im = axs[ i % 7].imshow(x, cmap='gnuplot')\n",
    "            axs[i % 7].axis('off')\n",
    "            fig.colorbar(im, ax=axs[ i % 7])\n",
    "        plt.savefig(f'{file_name}_{j}.png')\n",
    "        plt.tight_layout()\n",
    "\n",
    "draw_and_save_sets_of_images(torch.load('repeatin_condition.pth'))"
   ]
  }
 ],
 "metadata": {
  "kernelspec": {
   "display_name": "Python 3",
   "language": "python",
   "name": "python3"
  },
  "language_info": {
   "codemirror_mode": {
    "name": "ipython",
    "version": 3
   },
   "file_extension": ".py",
   "mimetype": "text/x-python",
   "name": "python",
   "nbconvert_exporter": "python",
   "pygments_lexer": "ipython3",
   "version": "3.11.8"
  }
 },
 "nbformat": 4,
 "nbformat_minor": 2
}
